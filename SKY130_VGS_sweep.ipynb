{
  "cells": [
    {
      "cell_type": "markdown",
      "metadata": {
        "id": "view-in-github",
        "colab_type": "text"
      },
      "source": [
        "<a href=\"https://colab.research.google.com/github/bmurmann/Ngspice-on-Colab/blob/main/SKY130_VGS_sweep.ipynb\" target=\"_parent\"><img src=\"https://colab.research.google.com/assets/colab-badge.svg\" alt=\"Open In Colab\"/></a>"
      ]
    },
    {
      "cell_type": "markdown",
      "metadata": {
        "id": "aK2t7aSWNojQ"
      },
      "source": [
        "# SKY130 V<sub>GS</sub> sweep\n",
        "\n",
        "Tool setup adopted from @proppy (see this [Colab notebook](https://colab.research.google.com/gist/proppy/a0c5ed3e28e942f1621200dcf67bad5a/sky130-pyspice-playground.ipynb#scrollTo=q0XHBAt1jGmQ))"
      ]
    },
    {
      "cell_type": "markdown",
      "source": [
        "# Tool setup"
      ],
      "metadata": {
        "id": "W7JQJy7mvn2w"
      }
    },
    {
      "cell_type": "code",
      "source": [
        "#@title Bootstrap conda environment {display-mode: \"form\"}\n",
        "#@markdown - Click the ▷ button to initialize the conda-eda environment.\n",
        "#@markdown - Wait for the installation to complete\n",
        "#@markdown - Click the `Restart Kernel` button.\n",
        "%pip install -q https://github.com/conda-incubator/condacolab/archive/28521d7c5c494dd6377bb072d97592e30c44609c.tar.gz\n",
        "import condacolab\n",
        "\n",
        "condacolab.install(restart_kernel=False)"
      ],
      "metadata": {
        "colab": {
          "base_uri": "https://localhost:8080/",
          "height": 141
        },
        "id": "5dHhq5m6wTI2",
        "outputId": "47838333-82ce-4819-f838-305cfe4234fc"
      },
      "execution_count": 1,
      "outputs": [
        {
          "output_type": "stream",
          "name": "stdout",
          "text": [
            "  Installing build dependencies ... \u001b[?25l\u001b[?25hdone\n",
            "  Getting requirements to build wheel ... \u001b[?25l\u001b[?25hdone\n",
            "  Preparing metadata (pyproject.toml) ... \u001b[?25l\u001b[?25hdone\n",
            "  Building wheel for condacolab (pyproject.toml) ... \u001b[?25l\u001b[?25hdone\n",
            "\u001b[33mWARNING: Running pip as the 'root' user can result in broken permissions and conflicting behaviour with the system package manager. It is recommended to use a virtual environment instead: https://pip.pypa.io/warnings/venv\u001b[0m\u001b[33m\n",
            "\u001b[0m✨🍰✨ Everything looks OK!\n"
          ]
        }
      ]
    },
    {
      "cell_type": "markdown",
      "source": [
        "### Install dependencies\n",
        "\n",
        "- Wait for the kernel restart to complete.\n",
        "- Click the ▷ button below to run the hidden cells to complete the setup."
      ],
      "metadata": {
        "id": "U6rf4KBdwsJ5"
      }
    },
    {
      "cell_type": "code",
      "source": [
        "%%writefile environment.yml\n",
        "channels:\n",
        "  - litex-hub\n",
        "  - conda-forge\n",
        "dependencies:\n",
        "  - open_pdks.sky130a\n",
        "  - ngspice"
      ],
      "metadata": {
        "colab": {
          "base_uri": "https://localhost:8080/"
        },
        "id": "aKoPD8cKw2UL",
        "outputId": "ce440cd7-bb39-4b2a-9e67-af33047278e2"
      },
      "execution_count": 2,
      "outputs": [
        {
          "output_type": "stream",
          "name": "stdout",
          "text": [
            "Overwriting environment.yml\n"
          ]
        }
      ]
    },
    {
      "cell_type": "code",
      "source": [
        "!mamba env update -n base -f environment.yml"
      ],
      "metadata": {
        "colab": {
          "base_uri": "https://localhost:8080/"
        },
        "id": "JBbUOsEPyTuU",
        "outputId": "cafe740f-77f6-4757-88d0-1194d9d35c31"
      },
      "execution_count": 3,
      "outputs": [
        {
          "output_type": "stream",
          "name": "stdout",
          "text": [
            "conda-forge/linux-64                                        Using cache\n",
            "conda-forge/noarch                                          Using cache\n",
            "\u001b[?25l\u001b[2K\u001b[0G[+] 0.0s\n",
            "\u001b[2K\u001b[1A\u001b[2K\u001b[0G[+] 0.1s\n",
            "litex-hub/linux-64  ⣾  \n",
            "litex-hub/noarch    ⣾  \u001b[2K\u001b[1A\u001b[2K\u001b[1A\u001b[2K\u001b[0G[+] 0.2s\n",
            "litex-hub/linux-64  ⣾  \n",
            "litex-hub/noarch    ⣾  \u001b[2K\u001b[1A\u001b[2K\u001b[1A\u001b[2K\u001b[0G[+] 0.3s\n",
            "litex-hub/linux-64  ⣾  \n",
            "litex-hub/noarch    ⣾  \u001b[2K\u001b[1A\u001b[2K\u001b[1A\u001b[2K\u001b[0G[+] 0.4s\n",
            "litex-hub/linux-64  ⣾  \n",
            "litex-hub/noarch    ⣾  \u001b[2K\u001b[1A\u001b[2K\u001b[1A\u001b[2K\u001b[0Glitex-hub/noarch                                              No change\n",
            "litex-hub/linux-64                                            No change\n",
            "\u001b[?25h\n",
            "\n",
            "Looking for: ['open_pdks.sky130a', 'ngspice']\n",
            "\n",
            "\n",
            "\n",
            "  Pinned packages:\n",
            "\n",
            "  - python 3.8.*\n",
            "  - python_abi 3.8.* *cp38*\n",
            "  - cudatoolkit 11.2.*\n",
            "\n",
            "\n",
            "Transaction\n",
            "\n",
            "  Prefix: /usr/local\n",
            "\n",
            "  Updating specs:\n",
            "\n",
            "   - open_pdks.sky130a\n",
            "   - ngspice\n",
            "\n",
            "\n",
            "  Package                         Version  Build            Channel                Size\n",
            "─────────────────────────────────────────────────────────────────────────────────────────\n",
            "  Change:\n",
            "─────────────────────────────────────────────────────────────────────────────────────────\n",
            "\n",
            "\u001b[31m  - open_pdks.sky130a\u001b[00m  1.0.378_0_g3696eca  20221219_071034  litex-hub                  \n",
            "\u001b[32m  + open_pdks.sky130a\u001b[00m  1.0.378_0_g3696eca  20221219_071034  litex-hub/noarch\u001b[32m     Cached\u001b[00m\n",
            "\n",
            "  Summary:\n",
            "\n",
            "  Change: 1 packages\n",
            "\n",
            "  Total download: 0 B\n",
            "\n",
            "─────────────────────────────────────────────────────────────────────────────────────────\n",
            "\n",
            "\u001b[?25l\u001b[2K\u001b[0G\u001b[?25hPreparing transaction: - \b\bdone\n",
            "Verifying transaction: | \b\bdone\n",
            "Executing transaction: - \b\bdone\n",
            "#\n",
            "# To activate this environment, use\n",
            "#\n",
            "#     $ conda activate base\n",
            "#\n",
            "# To deactivate an active environment, use\n",
            "#\n",
            "#     $ conda deactivate\n",
            "\n",
            "Retrieving notices: ...working... done\n"
          ]
        }
      ]
    },
    {
      "cell_type": "markdown",
      "source": [
        "# Simulation"
      ],
      "metadata": {
        "id": "Qnn9H_oowEgQ"
      }
    },
    {
      "cell_type": "code",
      "source": [
        "%%writefile .spiceinit\n",
        "* ngspice initialization for sky130\n",
        "* assert BSIM compatibility mode with \"nf\" vs. \"W\"\n",
        "set ngbehavior=hsa\n",
        "* \"nomodcheck\" speeds up loading time\n",
        "set ng_nomodcheck"
      ],
      "metadata": {
        "colab": {
          "base_uri": "https://localhost:8080/"
        },
        "id": "J0k4CykG8wui",
        "outputId": "8ca89b9b-b261-4757-87d6-df43be9faae1"
      },
      "execution_count": 4,
      "outputs": [
        {
          "output_type": "stream",
          "name": "stdout",
          "text": [
            "Overwriting .spiceinit\n"
          ]
        }
      ]
    },
    {
      "cell_type": "code",
      "source": [
        "%%writefile netlist.spice\n",
        "* PMOS VGS sweep\n",
        ".lib \"/usr/local/share/pdk/sky130A/libs.tech/ngspice/sky130.lib.spice\" tt\n",
        "X1 vdp vgp 0 vbp sky130_fd_pr__pfet_01v8_hvt w=10 l=0.15\n",
        "vsdp     0  vdp        dc 0.9  \n",
        "vsgp     0  vgp        dc 0    \n",
        "vsbp     0  vbp        dc 0\n",
        ".end\n",
        "\n",
        ".control\n",
        "save all @m.X1.msky130_fd_pr__pfet_01v8_hvt[id] @m.X1.msky130_fd_pr__pfet_01v8_hvt[gm]\n",
        "dc vsgp 0 1.8 0.01\n",
        "display\n",
        "wrdata output.txt @m.X1.msky130_fd_pr__pfet_01v8_hvt[gm] @m.X1.msky130_fd_pr__pfet_01v8_hvt[id]\n",
        ".endc"
      ],
      "metadata": {
        "colab": {
          "base_uri": "https://localhost:8080/"
        },
        "id": "d4381uZZ1dbj",
        "outputId": "f6f930a7-4fd9-4f66-9cb4-7c62cfb2eabd"
      },
      "execution_count": 5,
      "outputs": [
        {
          "output_type": "stream",
          "name": "stdout",
          "text": [
            "Overwriting netlist.spice\n"
          ]
        }
      ]
    },
    {
      "cell_type": "code",
      "source": [
        "!ngspice -b -r output.raw netlist.spice"
      ],
      "metadata": {
        "colab": {
          "base_uri": "https://localhost:8080/"
        },
        "id": "6Qs0DbgP02vN",
        "outputId": "5f54c9c0-a695-4d05-aef9-567fb5a50d4e"
      },
      "execution_count": 6,
      "outputs": [
        {
          "output_type": "stream",
          "name": "stdout",
          "text": [
            "\n",
            "Note: Compatibility modes selected: hs a\n",
            "\n",
            "Warning: m=xx on .subckt line will override multiplier m hierarchy!\n",
            "\n",
            "\n",
            "Circuit: * pmos vgs sweep\n",
            "\n",
            "option SCALE: Scale is set to 1e-06 for instance and model parameters\n",
            "Doing analysis at TEMP = 27.000000 and TNOM = 27.000000\n",
            "\n",
            " Reference value :  0.00000e+00\n",
            "No. of Data Rows : 181\n",
            "Here are the vectors currently active:\n",
            "\n",
            "Title: * pmos vgs sweep\n",
            "Name: dc1 (DC transfer characteristic)\n",
            "Date: Thu Jan  5 21:28:28  2023\n",
            "\n",
            "    @m.x1.msky130_fd_pr__pfet_01v8_hvt[gm]: admittance, real, 181 long\n",
            "    @m.x1.msky130_fd_pr__pfet_01v8_hvt[id]: current, real, 181 long\n",
            "    m.x1.msky130_fd_pr__pfet_01v8_hvt#body: voltage, real, 181 long\n",
            "    m.x1.msky130_fd_pr__pfet_01v8_hvt#dbody: voltage, real, 181 long\n",
            "    m.x1.msky130_fd_pr__pfet_01v8_hvt#sbody: voltage, real, 181 long\n",
            "    v-sweep             : voltage, real, 181 long [default scale]\n",
            "    vbp                 : voltage, real, 181 long\n",
            "    vdp                 : voltage, real, 181 long\n",
            "    vgp                 : voltage, real, 181 long\n",
            "    vsbp#branch         : current, real, 181 long\n",
            "    vsdp#branch         : current, real, 181 long\n",
            "    vsgp#branch         : current, real, 181 long\n",
            "binary raw file \"output.raw\"\n",
            "Doing analysis at TEMP = 27.000000 and TNOM = 27.000000\n",
            "\n",
            "\n",
            "Total analysis time (seconds) = 0.004\n",
            "\n",
            "Total elapsed time (seconds) = 17.628 \n",
            "\n",
            "Total DRAM available = 12985.547 MB.\n",
            "DRAM currently available = 6366.566 MB.\n",
            "Maximum ngspice program size =  591.379 MB.\n",
            "Current ngspice program size =  558.660 MB.\n",
            "\n",
            "Shared ngspice pages =   11.164 MB.\n",
            "Text (code) pages =    5.336 MB.\n",
            "Stack = 0 bytes.\n",
            "Library pages =  560.621 MB.\n",
            "\n"
          ]
        }
      ]
    },
    {
      "cell_type": "code",
      "source": [
        "import pandas as pd\n",
        "import matplotlib.pyplot as plt\n",
        "df = pd.read_csv(\"output.txt\", delim_whitespace=True, header=None)\n",
        "df.columns = [\"vsg\", \"gm\", \"vsg1\", \"id\"]\n",
        "df['gm_id'] = df['gm']/df['id']\n",
        "df"
      ],
      "metadata": {
        "colab": {
          "base_uri": "https://localhost:8080/",
          "height": 424
        },
        "id": "xh5L-L-KaM9A",
        "outputId": "9412adda-c92c-4e77-c924-3c8e100d4078"
      },
      "execution_count": 10,
      "outputs": [
        {
          "output_type": "execute_result",
          "data": {
            "text/plain": [
              "      vsg            gm  vsg1            id      gm_id\n",
              "0    0.00  2.328096e-13  0.00  8.300220e-15  28.048613\n",
              "1    0.01  3.081805e-13  0.01  1.098758e-14  28.048077\n",
              "2    0.02  4.079487e-13  0.02  1.454494e-14  28.047462\n",
              "3    0.03  5.400098e-13  0.03  1.925391e-14  28.046753\n",
              "4    0.04  7.148136e-13  0.04  2.548724e-14  28.045938\n",
              "..    ...           ...   ...           ...        ...\n",
              "176  1.76  1.866207e-03  1.76  1.113010e-03   1.676721\n",
              "177  1.77  1.869115e-03  1.77  1.131687e-03   1.651619\n",
              "178  1.78  1.871750e-03  1.78  1.150391e-03   1.627056\n",
              "179  1.79  1.874116e-03  1.79  1.169121e-03   1.603013\n",
              "180  1.80  1.876214e-03  1.80  1.187873e-03   1.579474\n",
              "\n",
              "[181 rows x 5 columns]"
            ],
            "text/html": [
              "\n",
              "  <div id=\"df-cb0ad171-0163-4e6b-b122-5ab1057a7c9a\">\n",
              "    <div class=\"colab-df-container\">\n",
              "      <div>\n",
              "<style scoped>\n",
              "    .dataframe tbody tr th:only-of-type {\n",
              "        vertical-align: middle;\n",
              "    }\n",
              "\n",
              "    .dataframe tbody tr th {\n",
              "        vertical-align: top;\n",
              "    }\n",
              "\n",
              "    .dataframe thead th {\n",
              "        text-align: right;\n",
              "    }\n",
              "</style>\n",
              "<table border=\"1\" class=\"dataframe\">\n",
              "  <thead>\n",
              "    <tr style=\"text-align: right;\">\n",
              "      <th></th>\n",
              "      <th>vsg</th>\n",
              "      <th>gm</th>\n",
              "      <th>vsg1</th>\n",
              "      <th>id</th>\n",
              "      <th>gm_id</th>\n",
              "    </tr>\n",
              "  </thead>\n",
              "  <tbody>\n",
              "    <tr>\n",
              "      <th>0</th>\n",
              "      <td>0.00</td>\n",
              "      <td>2.328096e-13</td>\n",
              "      <td>0.00</td>\n",
              "      <td>8.300220e-15</td>\n",
              "      <td>28.048613</td>\n",
              "    </tr>\n",
              "    <tr>\n",
              "      <th>1</th>\n",
              "      <td>0.01</td>\n",
              "      <td>3.081805e-13</td>\n",
              "      <td>0.01</td>\n",
              "      <td>1.098758e-14</td>\n",
              "      <td>28.048077</td>\n",
              "    </tr>\n",
              "    <tr>\n",
              "      <th>2</th>\n",
              "      <td>0.02</td>\n",
              "      <td>4.079487e-13</td>\n",
              "      <td>0.02</td>\n",
              "      <td>1.454494e-14</td>\n",
              "      <td>28.047462</td>\n",
              "    </tr>\n",
              "    <tr>\n",
              "      <th>3</th>\n",
              "      <td>0.03</td>\n",
              "      <td>5.400098e-13</td>\n",
              "      <td>0.03</td>\n",
              "      <td>1.925391e-14</td>\n",
              "      <td>28.046753</td>\n",
              "    </tr>\n",
              "    <tr>\n",
              "      <th>4</th>\n",
              "      <td>0.04</td>\n",
              "      <td>7.148136e-13</td>\n",
              "      <td>0.04</td>\n",
              "      <td>2.548724e-14</td>\n",
              "      <td>28.045938</td>\n",
              "    </tr>\n",
              "    <tr>\n",
              "      <th>...</th>\n",
              "      <td>...</td>\n",
              "      <td>...</td>\n",
              "      <td>...</td>\n",
              "      <td>...</td>\n",
              "      <td>...</td>\n",
              "    </tr>\n",
              "    <tr>\n",
              "      <th>176</th>\n",
              "      <td>1.76</td>\n",
              "      <td>1.866207e-03</td>\n",
              "      <td>1.76</td>\n",
              "      <td>1.113010e-03</td>\n",
              "      <td>1.676721</td>\n",
              "    </tr>\n",
              "    <tr>\n",
              "      <th>177</th>\n",
              "      <td>1.77</td>\n",
              "      <td>1.869115e-03</td>\n",
              "      <td>1.77</td>\n",
              "      <td>1.131687e-03</td>\n",
              "      <td>1.651619</td>\n",
              "    </tr>\n",
              "    <tr>\n",
              "      <th>178</th>\n",
              "      <td>1.78</td>\n",
              "      <td>1.871750e-03</td>\n",
              "      <td>1.78</td>\n",
              "      <td>1.150391e-03</td>\n",
              "      <td>1.627056</td>\n",
              "    </tr>\n",
              "    <tr>\n",
              "      <th>179</th>\n",
              "      <td>1.79</td>\n",
              "      <td>1.874116e-03</td>\n",
              "      <td>1.79</td>\n",
              "      <td>1.169121e-03</td>\n",
              "      <td>1.603013</td>\n",
              "    </tr>\n",
              "    <tr>\n",
              "      <th>180</th>\n",
              "      <td>1.80</td>\n",
              "      <td>1.876214e-03</td>\n",
              "      <td>1.80</td>\n",
              "      <td>1.187873e-03</td>\n",
              "      <td>1.579474</td>\n",
              "    </tr>\n",
              "  </tbody>\n",
              "</table>\n",
              "<p>181 rows × 5 columns</p>\n",
              "</div>\n",
              "      <button class=\"colab-df-convert\" onclick=\"convertToInteractive('df-cb0ad171-0163-4e6b-b122-5ab1057a7c9a')\"\n",
              "              title=\"Convert this dataframe to an interactive table.\"\n",
              "              style=\"display:none;\">\n",
              "        \n",
              "  <svg xmlns=\"http://www.w3.org/2000/svg\" height=\"24px\"viewBox=\"0 0 24 24\"\n",
              "       width=\"24px\">\n",
              "    <path d=\"M0 0h24v24H0V0z\" fill=\"none\"/>\n",
              "    <path d=\"M18.56 5.44l.94 2.06.94-2.06 2.06-.94-2.06-.94-.94-2.06-.94 2.06-2.06.94zm-11 1L8.5 8.5l.94-2.06 2.06-.94-2.06-.94L8.5 2.5l-.94 2.06-2.06.94zm10 10l.94 2.06.94-2.06 2.06-.94-2.06-.94-.94-2.06-.94 2.06-2.06.94z\"/><path d=\"M17.41 7.96l-1.37-1.37c-.4-.4-.92-.59-1.43-.59-.52 0-1.04.2-1.43.59L10.3 9.45l-7.72 7.72c-.78.78-.78 2.05 0 2.83L4 21.41c.39.39.9.59 1.41.59.51 0 1.02-.2 1.41-.59l7.78-7.78 2.81-2.81c.8-.78.8-2.07 0-2.86zM5.41 20L4 18.59l7.72-7.72 1.47 1.35L5.41 20z\"/>\n",
              "  </svg>\n",
              "      </button>\n",
              "      \n",
              "  <style>\n",
              "    .colab-df-container {\n",
              "      display:flex;\n",
              "      flex-wrap:wrap;\n",
              "      gap: 12px;\n",
              "    }\n",
              "\n",
              "    .colab-df-convert {\n",
              "      background-color: #E8F0FE;\n",
              "      border: none;\n",
              "      border-radius: 50%;\n",
              "      cursor: pointer;\n",
              "      display: none;\n",
              "      fill: #1967D2;\n",
              "      height: 32px;\n",
              "      padding: 0 0 0 0;\n",
              "      width: 32px;\n",
              "    }\n",
              "\n",
              "    .colab-df-convert:hover {\n",
              "      background-color: #E2EBFA;\n",
              "      box-shadow: 0px 1px 2px rgba(60, 64, 67, 0.3), 0px 1px 3px 1px rgba(60, 64, 67, 0.15);\n",
              "      fill: #174EA6;\n",
              "    }\n",
              "\n",
              "    [theme=dark] .colab-df-convert {\n",
              "      background-color: #3B4455;\n",
              "      fill: #D2E3FC;\n",
              "    }\n",
              "\n",
              "    [theme=dark] .colab-df-convert:hover {\n",
              "      background-color: #434B5C;\n",
              "      box-shadow: 0px 1px 3px 1px rgba(0, 0, 0, 0.15);\n",
              "      filter: drop-shadow(0px 1px 2px rgba(0, 0, 0, 0.3));\n",
              "      fill: #FFFFFF;\n",
              "    }\n",
              "  </style>\n",
              "\n",
              "      <script>\n",
              "        const buttonEl =\n",
              "          document.querySelector('#df-cb0ad171-0163-4e6b-b122-5ab1057a7c9a button.colab-df-convert');\n",
              "        buttonEl.style.display =\n",
              "          google.colab.kernel.accessAllowed ? 'block' : 'none';\n",
              "\n",
              "        async function convertToInteractive(key) {\n",
              "          const element = document.querySelector('#df-cb0ad171-0163-4e6b-b122-5ab1057a7c9a');\n",
              "          const dataTable =\n",
              "            await google.colab.kernel.invokeFunction('convertToInteractive',\n",
              "                                                     [key], {});\n",
              "          if (!dataTable) return;\n",
              "\n",
              "          const docLinkHtml = 'Like what you see? Visit the ' +\n",
              "            '<a target=\"_blank\" href=https://colab.research.google.com/notebooks/data_table.ipynb>data table notebook</a>'\n",
              "            + ' to learn more about interactive tables.';\n",
              "          element.innerHTML = '';\n",
              "          dataTable['output_type'] = 'display_data';\n",
              "          await google.colab.output.renderOutput(dataTable, element);\n",
              "          const docLink = document.createElement('div');\n",
              "          docLink.innerHTML = docLinkHtml;\n",
              "          element.appendChild(docLink);\n",
              "        }\n",
              "      </script>\n",
              "    </div>\n",
              "  </div>\n",
              "  "
            ]
          },
          "metadata": {},
          "execution_count": 10
        }
      ]
    },
    {
      "cell_type": "code",
      "source": [
        "df.plot(x=\"vsg\", y=\"id\", logy=True, grid=True)\n",
        "plt.show()"
      ],
      "metadata": {
        "colab": {
          "base_uri": "https://localhost:8080/",
          "height": 279
        },
        "id": "rCTaJreri9ke",
        "outputId": "58d048e0-db7c-49c2-bb57-842e4f1bd7c1"
      },
      "execution_count": 8,
      "outputs": [
        {
          "output_type": "display_data",
          "data": {
            "text/plain": [
              "<Figure size 432x288 with 1 Axes>"
            ],
            "image/png": "[encoded data removed]"
          },
          "metadata": {
            "needs_background": "light"
          }
        }
      ]
    },
    {
      "cell_type": "code",
      "source": [
        "df.plot(x=\"vsg\", y=\"gm_id\", grid=True)\n",
        "plt.show()"
      ],
      "metadata": {
        "colab": {
          "base_uri": "https://localhost:8080/",
          "height": 279
        },
        "id": "QtT18v6ElmwL",
        "outputId": "42cefe82-a02d-4b2c-be9a-64086a3cc356"
      },
      "execution_count": 9,
      "outputs": [
        {
          "output_type": "display_data",
          "data": {
            "text/plain": [
              "<Figure size 432x288 with 1 Axes>"
            ],
            "image/png": "[encoded data removed]"
          },
          "metadata": {
            "needs_background": "light"
          }
        }
      ]
    },
    {
      "cell_type": "markdown",
      "source": [
        "The above plot shows a problem with the PMOS model in the SKY130 PDK."
      ],
      "metadata": {
        "id": "SAA4JQAMd6sC"
      }
    }
  ],
  "metadata": {
    "colab": {
      "provenance": [],
      "toc_visible": true,
      "include_colab_link": true
    },
    "kernelspec": {
      "display_name": "Python 3.9.13 64-bit",
      "language": "python",
      "name": "python3"
    },
    "language_info": {
      "name": "python",
      "version": "3.9.13"
    },
    "vscode": {
      "interpreter": {
        "hash": "397704579725e15f5c7cb49fe5f0341eb7531c82d19f2c29d197e8b64ab5776b"
      }
    }
  },
  "nbformat": 4,
  "nbformat_minor": 0
}